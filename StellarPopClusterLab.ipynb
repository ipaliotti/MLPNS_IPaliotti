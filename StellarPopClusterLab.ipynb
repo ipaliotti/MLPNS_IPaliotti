{
  "nbformat": 4,
  "nbformat_minor": 0,
  "metadata": {
    "colab": {
      "provenance": [],
      "authorship_tag": "ABX9TyNWDU8PGmhINvdO9bM+L9w+",
      "include_colab_link": true
    },
    "kernelspec": {
      "name": "python3",
      "display_name": "Python 3"
    },
    "language_info": {
      "name": "python"
    }
  },
  "cells": [
    {
      "cell_type": "markdown",
      "metadata": {
        "id": "view-in-github",
        "colab_type": "text"
      },
      "source": [
        "<a href=\"https://colab.research.google.com/github/ipaliotti/MLPNS_IPaliotti/blob/main/StellarPopClusterLab.ipynb\" target=\"_parent\"><img src=\"https://colab.research.google.com/assets/colab-badge.svg\" alt=\"Open In Colab\"/></a>"
      ]
    },
    {
      "cell_type": "code",
      "execution_count": 1,
      "metadata": {
        "id": "ShYCnwZcAFJZ"
      },
      "outputs": [],
      "source": [
        "import pandas as pd\n",
        "import pylab as pl\n",
        "import sklearn as skl\n",
        "from sklearn import preprocessing\n",
        "import scipy as sp\n",
        "from scipy import spatial\n",
        "import numpy as np\n",
        "from sklearn import cluster"
      ]
    },
    {
      "cell_type": "code",
      "source": [
        "cmag=pd.read_csv(\"https://raw.githubusercontent.com/fedhere/\"\n",
        "              \"MLPNS_FBianco/main/clustering/colormag_NGC2808.csv\", header=None)\n",
        "cmag\n"
      ],
      "metadata": {
        "colab": {
          "base_uri": "https://localhost:8080/",
          "height": 423
        },
        "id": "FjNWdhwrAYZA",
        "outputId": "a7943570-dbaf-439d-ca35-3e83ed208d0c"
      },
      "execution_count": 4,
      "outputs": [
        {
          "output_type": "execute_result",
          "data": {
            "text/plain": [
              "            0          1\n",
              "0   -0.286449  19.920797\n",
              "1   -0.273440  20.197264\n",
              "2   -0.270112  19.915151\n",
              "3   -0.243489  20.285819\n",
              "4   -0.213538  19.689023\n",
              "..        ...        ...\n",
              "596  1.540265  17.014947\n",
              "597  1.540265  18.009830\n",
              "598  1.540265  19.012137\n",
              "599  1.540265  20.007020\n",
              "600  1.540265  21.009327\n",
              "\n",
              "[601 rows x 2 columns]"
            ],
            "text/html": [
              "\n",
              "  <div id=\"df-e8338d2f-cb98-48d2-ba61-e92d0d203a13\">\n",
              "    <div class=\"colab-df-container\">\n",
              "      <div>\n",
              "<style scoped>\n",
              "    .dataframe tbody tr th:only-of-type {\n",
              "        vertical-align: middle;\n",
              "    }\n",
              "\n",
              "    .dataframe tbody tr th {\n",
              "        vertical-align: top;\n",
              "    }\n",
              "\n",
              "    .dataframe thead th {\n",
              "        text-align: right;\n",
              "    }\n",
              "</style>\n",
              "<table border=\"1\" class=\"dataframe\">\n",
              "  <thead>\n",
              "    <tr style=\"text-align: right;\">\n",
              "      <th></th>\n",
              "      <th>0</th>\n",
              "      <th>1</th>\n",
              "    </tr>\n",
              "  </thead>\n",
              "  <tbody>\n",
              "    <tr>\n",
              "      <th>0</th>\n",
              "      <td>-0.286449</td>\n",
              "      <td>19.920797</td>\n",
              "    </tr>\n",
              "    <tr>\n",
              "      <th>1</th>\n",
              "      <td>-0.273440</td>\n",
              "      <td>20.197264</td>\n",
              "    </tr>\n",
              "    <tr>\n",
              "      <th>2</th>\n",
              "      <td>-0.270112</td>\n",
              "      <td>19.915151</td>\n",
              "    </tr>\n",
              "    <tr>\n",
              "      <th>3</th>\n",
              "      <td>-0.243489</td>\n",
              "      <td>20.285819</td>\n",
              "    </tr>\n",
              "    <tr>\n",
              "      <th>4</th>\n",
              "      <td>-0.213538</td>\n",
              "      <td>19.689023</td>\n",
              "    </tr>\n",
              "    <tr>\n",
              "      <th>...</th>\n",
              "      <td>...</td>\n",
              "      <td>...</td>\n",
              "    </tr>\n",
              "    <tr>\n",
              "      <th>596</th>\n",
              "      <td>1.540265</td>\n",
              "      <td>17.014947</td>\n",
              "    </tr>\n",
              "    <tr>\n",
              "      <th>597</th>\n",
              "      <td>1.540265</td>\n",
              "      <td>18.009830</td>\n",
              "    </tr>\n",
              "    <tr>\n",
              "      <th>598</th>\n",
              "      <td>1.540265</td>\n",
              "      <td>19.012137</td>\n",
              "    </tr>\n",
              "    <tr>\n",
              "      <th>599</th>\n",
              "      <td>1.540265</td>\n",
              "      <td>20.007020</td>\n",
              "    </tr>\n",
              "    <tr>\n",
              "      <th>600</th>\n",
              "      <td>1.540265</td>\n",
              "      <td>21.009327</td>\n",
              "    </tr>\n",
              "  </tbody>\n",
              "</table>\n",
              "<p>601 rows × 2 columns</p>\n",
              "</div>\n",
              "      <button class=\"colab-df-convert\" onclick=\"convertToInteractive('df-e8338d2f-cb98-48d2-ba61-e92d0d203a13')\"\n",
              "              title=\"Convert this dataframe to an interactive table.\"\n",
              "              style=\"display:none;\">\n",
              "        \n",
              "  <svg xmlns=\"http://www.w3.org/2000/svg\" height=\"24px\"viewBox=\"0 0 24 24\"\n",
              "       width=\"24px\">\n",
              "    <path d=\"M0 0h24v24H0V0z\" fill=\"none\"/>\n",
              "    <path d=\"M18.56 5.44l.94 2.06.94-2.06 2.06-.94-2.06-.94-.94-2.06-.94 2.06-2.06.94zm-11 1L8.5 8.5l.94-2.06 2.06-.94-2.06-.94L8.5 2.5l-.94 2.06-2.06.94zm10 10l.94 2.06.94-2.06 2.06-.94-2.06-.94-.94-2.06-.94 2.06-2.06.94z\"/><path d=\"M17.41 7.96l-1.37-1.37c-.4-.4-.92-.59-1.43-.59-.52 0-1.04.2-1.43.59L10.3 9.45l-7.72 7.72c-.78.78-.78 2.05 0 2.83L4 21.41c.39.39.9.59 1.41.59.51 0 1.02-.2 1.41-.59l7.78-7.78 2.81-2.81c.8-.78.8-2.07 0-2.86zM5.41 20L4 18.59l7.72-7.72 1.47 1.35L5.41 20z\"/>\n",
              "  </svg>\n",
              "      </button>\n",
              "      \n",
              "  <style>\n",
              "    .colab-df-container {\n",
              "      display:flex;\n",
              "      flex-wrap:wrap;\n",
              "      gap: 12px;\n",
              "    }\n",
              "\n",
              "    .colab-df-convert {\n",
              "      background-color: #E8F0FE;\n",
              "      border: none;\n",
              "      border-radius: 50%;\n",
              "      cursor: pointer;\n",
              "      display: none;\n",
              "      fill: #1967D2;\n",
              "      height: 32px;\n",
              "      padding: 0 0 0 0;\n",
              "      width: 32px;\n",
              "    }\n",
              "\n",
              "    .colab-df-convert:hover {\n",
              "      background-color: #E2EBFA;\n",
              "      box-shadow: 0px 1px 2px rgba(60, 64, 67, 0.3), 0px 1px 3px 1px rgba(60, 64, 67, 0.15);\n",
              "      fill: #174EA6;\n",
              "    }\n",
              "\n",
              "    [theme=dark] .colab-df-convert {\n",
              "      background-color: #3B4455;\n",
              "      fill: #D2E3FC;\n",
              "    }\n",
              "\n",
              "    [theme=dark] .colab-df-convert:hover {\n",
              "      background-color: #434B5C;\n",
              "      box-shadow: 0px 1px 3px 1px rgba(0, 0, 0, 0.15);\n",
              "      filter: drop-shadow(0px 1px 2px rgba(0, 0, 0, 0.3));\n",
              "      fill: #FFFFFF;\n",
              "    }\n",
              "  </style>\n",
              "\n",
              "      <script>\n",
              "        const buttonEl =\n",
              "          document.querySelector('#df-e8338d2f-cb98-48d2-ba61-e92d0d203a13 button.colab-df-convert');\n",
              "        buttonEl.style.display =\n",
              "          google.colab.kernel.accessAllowed ? 'block' : 'none';\n",
              "\n",
              "        async function convertToInteractive(key) {\n",
              "          const element = document.querySelector('#df-e8338d2f-cb98-48d2-ba61-e92d0d203a13');\n",
              "          const dataTable =\n",
              "            await google.colab.kernel.invokeFunction('convertToInteractive',\n",
              "                                                     [key], {});\n",
              "          if (!dataTable) return;\n",
              "\n",
              "          const docLinkHtml = 'Like what you see? Visit the ' +\n",
              "            '<a target=\"_blank\" href=https://colab.research.google.com/notebooks/data_table.ipynb>data table notebook</a>'\n",
              "            + ' to learn more about interactive tables.';\n",
              "          element.innerHTML = '';\n",
              "          dataTable['output_type'] = 'display_data';\n",
              "          await google.colab.output.renderOutput(dataTable, element);\n",
              "          const docLink = document.createElement('div');\n",
              "          docLink.innerHTML = docLinkHtml;\n",
              "          element.appendChild(docLink);\n",
              "        }\n",
              "      </script>\n",
              "    </div>\n",
              "  </div>\n",
              "  "
            ]
          },
          "metadata": {},
          "execution_count": 4
        }
      ]
    },
    {
      "cell_type": "code",
      "source": [
        "pl.figure(figsize=(5,5))\n",
        "ax=cmag.plot(x=0, y=1, kind='scatter')\n",
        "\n",
        "ax.set_xlabel=(\"B-V(color)\")\n",
        "ax.set_ylabel(\"V_mag\")\n",
        "ax.axis('equal')\n",
        "\n",
        "pl.gca().invert_yaxis();\n",
        "\n",
        "#ho delle scale diverse quindi devo preoccuparmi"
      ],
      "metadata": {
        "colab": {
          "base_uri": "https://localhost:8080/",
          "height": 521
        },
        "id": "a9ts4KR6BGSF",
        "outputId": "e0ab21a3-e1ee-4466-9877-74cfd09550b4"
      },
      "execution_count": 7,
      "outputs": [
        {
          "output_type": "stream",
          "name": "stderr",
          "text": [
            "/usr/local/lib/python3.9/dist-packages/pandas/plotting/_matplotlib/core.py:1114: UserWarning: No data for colormapping provided via 'c'. Parameters 'cmap' will be ignored\n",
            "  scatter = ax.scatter(\n"
          ]
        },
        {
          "output_type": "display_data",
          "data": {
            "text/plain": [
              "<Figure size 500x500 with 0 Axes>"
            ]
          },
          "metadata": {}
        },
        {
          "output_type": "display_data",
          "data": {
            "text/plain": [
              "<Figure size 640x480 with 1 Axes>"
            ],
            "image/png": "[encoded data removed]"
          },
          "metadata": {}
        }
      ]
    },
    {
      "cell_type": "code",
      "source": [
        "cmag_scaled= preprocessing.scale(cmag,axis=0)"
      ],
      "metadata": {
        "id": "M3vtHrpdCI-7"
      },
      "execution_count": 12,
      "outputs": []
    },
    {
      "cell_type": "code",
      "source": [
        "ax=pl.figure(figsize=(5,5)).add_subplot(111)\n",
        "ax.plot(cmag_scaled[:,0], cmag_scaled[:,1], '.')\n",
        "\n",
        "\n",
        "ax.set_xlabel=(\"B-V(color)\")\n",
        "ax.set_ylabel(\"V_mag\")\n",
        "ax.axis('equal')\n",
        "\n",
        "pl.gca().invert_yaxis();"
      ],
      "metadata": {
        "colab": {
          "base_uri": "https://localhost:8080/",
          "height": 445
        },
        "id": "q3vo8_XDCjNE",
        "outputId": "609905cf-4f8f-4df2-c868-409feb357a06"
      },
      "execution_count": 13,
      "outputs": [
        {
          "output_type": "display_data",
          "data": {
            "text/plain": [
              "<Figure size 500x500 with 1 Axes>"
            ],
            "image/png": "[encoded data removed]"
          },
          "metadata": {}
        }
      ]
    },
    {
      "cell_type": "code",
      "source": [
        "model=cluster.KMeans(n_clusters=3, random_state=302)\n"
      ],
      "metadata": {
        "id": "u88Pu-0mC-2B"
      },
      "execution_count": 15,
      "outputs": []
    },
    {
      "cell_type": "code",
      "source": [
        "model.fit(cmag_scaled)"
      ],
      "metadata": {
        "colab": {
          "base_uri": "https://localhost:8080/",
          "height": 129
        },
        "id": "amL1CozbF4pS",
        "outputId": "389bd1ae-94df-410c-98ab-11e900021fa6"
      },
      "execution_count": 16,
      "outputs": [
        {
          "output_type": "stream",
          "name": "stderr",
          "text": [
            "/usr/local/lib/python3.9/dist-packages/sklearn/cluster/_kmeans.py:870: FutureWarning: The default value of `n_init` will change from 10 to 'auto' in 1.4. Set the value of `n_init` explicitly to suppress the warning\n",
            "  warnings.warn(\n"
          ]
        },
        {
          "output_type": "execute_result",
          "data": {
            "text/plain": [
              "KMeans(n_clusters=3, random_state=302)"
            ],
            "text/html": [
              "<style>#sk-container-id-1 {color: black;background-color: white;}#sk-container-id-1 pre{padding: 0;}#sk-container-id-1 div.sk-toggleable {background-color: white;}#sk-container-id-1 label.sk-toggleable__label {cursor: pointer;display: block;width: 100%;margin-bottom: 0;padding: 0.3em;box-sizing: border-box;text-align: center;}#sk-container-id-1 label.sk-toggleable__label-arrow:before {content: \"▸\";float: left;margin-right: 0.25em;color: #696969;}#sk-container-id-1 label.sk-toggleable__label-arrow:hover:before {color: black;}#sk-container-id-1 div.sk-estimator:hover label.sk-toggleable__label-arrow:before {color: black;}#sk-container-id-1 div.sk-toggleable__content {max-height: 0;max-width: 0;overflow: hidden;text-align: left;background-color: #f0f8ff;}#sk-container-id-1 div.sk-toggleable__content pre {margin: 0.2em;color: black;border-radius: 0.25em;background-color: #f0f8ff;}#sk-container-id-1 input.sk-toggleable__control:checked~div.sk-toggleable__content {max-height: 200px;max-width: 100%;overflow: auto;}#sk-container-id-1 input.sk-toggleable__control:checked~label.sk-toggleable__label-arrow:before {content: \"▾\";}#sk-container-id-1 div.sk-estimator input.sk-toggleable__control:checked~label.sk-toggleable__label {background-color: #d4ebff;}#sk-container-id-1 div.sk-label input.sk-toggleable__control:checked~label.sk-toggleable__label {background-color: #d4ebff;}#sk-container-id-1 input.sk-hidden--visually {border: 0;clip: rect(1px 1px 1px 1px);clip: rect(1px, 1px, 1px, 1px);height: 1px;margin: -1px;overflow: hidden;padding: 0;position: absolute;width: 1px;}#sk-container-id-1 div.sk-estimator {font-family: monospace;background-color: #f0f8ff;border: 1px dotted black;border-radius: 0.25em;box-sizing: border-box;margin-bottom: 0.5em;}#sk-container-id-1 div.sk-estimator:hover {background-color: #d4ebff;}#sk-container-id-1 div.sk-parallel-item::after {content: \"\";width: 100%;border-bottom: 1px solid gray;flex-grow: 1;}#sk-container-id-1 div.sk-label:hover label.sk-toggleable__label {background-color: #d4ebff;}#sk-container-id-1 div.sk-serial::before {content: \"\";position: absolute;border-left: 1px solid gray;box-sizing: border-box;top: 0;bottom: 0;left: 50%;z-index: 0;}#sk-container-id-1 div.sk-serial {display: flex;flex-direction: column;align-items: center;background-color: white;padding-right: 0.2em;padding-left: 0.2em;position: relative;}#sk-container-id-1 div.sk-item {position: relative;z-index: 1;}#sk-container-id-1 div.sk-parallel {display: flex;align-items: stretch;justify-content: center;background-color: white;position: relative;}#sk-container-id-1 div.sk-item::before, #sk-container-id-1 div.sk-parallel-item::before {content: \"\";position: absolute;border-left: 1px solid gray;box-sizing: border-box;top: 0;bottom: 0;left: 50%;z-index: -1;}#sk-container-id-1 div.sk-parallel-item {display: flex;flex-direction: column;z-index: 1;position: relative;background-color: white;}#sk-container-id-1 div.sk-parallel-item:first-child::after {align-self: flex-end;width: 50%;}#sk-container-id-1 div.sk-parallel-item:last-child::after {align-self: flex-start;width: 50%;}#sk-container-id-1 div.sk-parallel-item:only-child::after {width: 0;}#sk-container-id-1 div.sk-dashed-wrapped {border: 1px dashed gray;margin: 0 0.4em 0.5em 0.4em;box-sizing: border-box;padding-bottom: 0.4em;background-color: white;}#sk-container-id-1 div.sk-label label {font-family: monospace;font-weight: bold;display: inline-block;line-height: 1.2em;}#sk-container-id-1 div.sk-label-container {text-align: center;}#sk-container-id-1 div.sk-container {/* jupyter's `normalize.less` sets `[hidden] { display: none; }` but bootstrap.min.css set `[hidden] { display: none !important; }` so we also need the `!important` here to be able to override the default hidden behavior on the sphinx rendered scikit-learn.org. See: https://github.com/scikit-learn/scikit-learn/issues/21755 */display: inline-block !important;position: relative;}#sk-container-id-1 div.sk-text-repr-fallback {display: none;}</style><div id=\"sk-container-id-1\" class=\"sk-top-container\"><div class=\"sk-text-repr-fallback\"><pre>KMeans(n_clusters=3, random_state=302)</pre><b>In a Jupyter environment, please rerun this cell to show the HTML representation or trust the notebook. <br />On GitHub, the HTML representation is unable to render, please try loading this page with nbviewer.org.</b></div><div class=\"sk-container\" hidden><div class=\"sk-item\"><div class=\"sk-estimator sk-toggleable\"><input class=\"sk-toggleable__control sk-hidden--visually\" id=\"sk-estimator-id-1\" type=\"checkbox\" checked><label for=\"sk-estimator-id-1\" class=\"sk-toggleable__label sk-toggleable__label-arrow\">KMeans</label><div class=\"sk-toggleable__content\"><pre>KMeans(n_clusters=3, random_state=302)</pre></div></div></div></div></div>"
            ]
          },
          "metadata": {},
          "execution_count": 16
        }
      ]
    },
    {
      "cell_type": "code",
      "source": [
        "model.labels_\n",
        "\n"
      ],
      "metadata": {
        "colab": {
          "base_uri": "https://localhost:8080/"
        },
        "id": "GB-PgW9KG9R3",
        "outputId": "f0f6ff38-3019-408b-c61c-04acb94f6347"
      },
      "execution_count": 18,
      "outputs": [
        {
          "output_type": "execute_result",
          "data": {
            "text/plain": [
              "array([2, 2, 2, 2, 2, 2, 2, 2, 2, 2, 2, 2, 2, 2, 2, 2, 2, 2, 2, 2, 2, 2,\n",
              "       2, 2, 2, 2, 2, 2, 2, 2, 2, 2, 2, 2, 2, 2, 2, 2, 2, 2, 2, 2, 2, 2,\n",
              "       2, 2, 2, 2, 2, 2, 2, 2, 2, 2, 2, 2, 2, 2, 2, 2, 2, 2, 2, 2, 2, 2,\n",
              "       2, 2, 2, 2, 2, 2, 2, 2, 2, 2, 2, 2, 2, 2, 2, 2, 2, 2, 2, 2, 2, 2,\n",
              "       2, 2, 2, 2, 2, 2, 2, 2, 2, 2, 2, 2, 2, 2, 2, 2, 2, 2, 2, 2, 2, 2,\n",
              "       2, 2, 2, 2, 2, 2, 2, 2, 2, 2, 2, 2, 2, 0, 2, 0, 2, 0, 0, 2, 2, 0,\n",
              "       2, 0, 0, 1, 2, 0, 0, 2, 0, 0, 1, 0, 0, 1, 0, 1, 0, 1, 0, 0, 0, 1,\n",
              "       0, 1, 0, 1, 0, 0, 0, 0, 0, 1, 0, 1, 0, 0, 1, 0, 1, 0, 1, 0, 0, 0,\n",
              "       0, 0, 1, 0, 1, 0, 1, 1, 0, 1, 1, 0, 0, 1, 0, 0, 0, 0, 0, 0, 0, 0,\n",
              "       1, 1, 1, 0, 0, 0, 1, 0, 0, 0, 0, 1, 1, 0, 0, 0, 0, 1, 1, 1, 0, 1,\n",
              "       1, 0, 0, 0, 0, 0, 0, 0, 0, 0, 0, 0, 1, 1, 0, 0, 0, 0, 1, 1, 1, 0,\n",
              "       0, 0, 0, 0, 0, 0, 0, 0, 1, 0, 0, 0, 0, 1, 0, 0, 0, 0, 0, 1, 0, 0,\n",
              "       0, 0, 0, 0, 0, 0, 0, 1, 0, 0, 0, 0, 0, 0, 0, 0, 1, 0, 0, 0, 0, 1,\n",
              "       1, 0, 0, 0, 0, 0, 0, 0, 0, 0, 0, 0, 0, 0, 1, 0, 0, 0, 0, 1, 1, 0,\n",
              "       0, 0, 0, 1, 1, 0, 0, 0, 1, 1, 0, 0, 0, 0, 1, 1, 0, 0, 0, 0, 1, 0,\n",
              "       0, 0, 0, 0, 0, 0, 0, 0, 1, 1, 1, 0, 0, 1, 1, 1, 0, 0, 0, 0, 0, 0,\n",
              "       0, 1, 0, 0, 0, 0, 0, 1, 1, 0, 0, 1, 1, 0, 0, 0, 0, 0, 1, 1, 1, 1,\n",
              "       0, 0, 1, 1, 0, 0, 0, 0, 0, 0, 0, 1, 1, 0, 0, 0, 0, 1, 1, 0, 0, 1,\n",
              "       1, 1, 1, 0, 0, 0, 1, 0, 0, 0, 1, 1, 1, 1, 1, 0, 0, 0, 0, 1, 1, 1,\n",
              "       1, 0, 1, 1, 0, 0, 0, 1, 1, 1, 1, 1, 1, 1, 1, 0, 1, 0, 0, 0, 0, 1,\n",
              "       1, 1, 0, 1, 1, 1, 1, 0, 1, 1, 1, 1, 1, 1, 1, 0, 1, 1, 1, 1, 0, 1,\n",
              "       1, 0, 0, 1, 1, 1, 1, 1, 1, 0, 1, 1, 1, 1, 1, 1, 1, 0, 1, 1, 1, 1,\n",
              "       1, 0, 0, 1, 1, 1, 1, 1, 1, 0, 0, 1, 1, 1, 1, 0, 1, 1, 1, 1, 1, 0,\n",
              "       1, 1, 0, 1, 1, 1, 1, 1, 0, 1, 0, 1, 1, 1, 1, 0, 0, 1, 1, 1, 1, 1,\n",
              "       0, 1, 1, 0, 0, 1, 1, 1, 1, 1, 1, 1, 1, 1, 1, 1, 1, 1, 1, 1, 0, 0,\n",
              "       1, 1, 1, 0, 1, 1, 0, 1, 1, 1, 0, 1, 1, 1, 1, 0, 1, 1, 0, 1, 0, 1,\n",
              "       0, 1, 1, 0, 0, 1, 0, 0, 0, 0, 1, 0, 1, 0, 1, 1, 1, 1, 1, 0, 1, 0,\n",
              "       1, 1, 1, 1, 0, 0, 0], dtype=int32)"
            ]
          },
          "metadata": {},
          "execution_count": 18
        }
      ]
    },
    {
      "cell_type": "code",
      "source": [
        "model.cluster_centers_"
      ],
      "metadata": {
        "colab": {
          "base_uri": "https://localhost:8080/"
        },
        "id": "0YhnaWp4HBZ5",
        "outputId": "3f80723b-fc50-4334-d881-a39343311381"
      },
      "execution_count": 22,
      "outputs": [
        {
          "output_type": "execute_result",
          "data": {
            "text/plain": [
              "array([[ 0.2930383 ,  0.77187379],\n",
              "       [ 0.62251398, -1.09094667],\n",
              "       [-1.61167123,  0.31291912]])"
            ]
          },
          "metadata": {},
          "execution_count": 22
        }
      ]
    },
    {
      "cell_type": "code",
      "source": [
        "model.inertia_"
      ],
      "metadata": {
        "colab": {
          "base_uri": "https://localhost:8080/"
        },
        "id": "UvF_S_MiHHUz",
        "outputId": "4cc067d6-15f6-46ed-e55d-0a774162f18b"
      },
      "execution_count": 23,
      "outputs": [
        {
          "output_type": "execute_result",
          "data": {
            "text/plain": [
              "336.09752492000223"
            ]
          },
          "metadata": {},
          "execution_count": 23
        }
      ]
    },
    {
      "cell_type": "code",
      "source": [
        "ax=pl.figure(figsize=(5,5)).add_subplot(111)\n",
        "for i in range(3):\n",
        "\n",
        "  ax.plot(cmag_scaled[model.labels_==i, 0], cmag_scaled[model.labels_==i, 1], '.')\n",
        "  ax.plot(model.cluster_centers_[i,0],model.cluster_centers_[i,1],'kx')\n",
        "\n",
        "\n",
        "ax.set_xlabel=(\"B-V(color)\")\n",
        "ax.set_ylabel(\"V_mag\")\n",
        "ax.axis('equal')\n",
        "\n",
        "pl.gca().invert_yaxis();"
      ],
      "metadata": {
        "colab": {
          "base_uri": "https://localhost:8080/",
          "height": 445
        },
        "id": "XXbyo0snHlIP",
        "outputId": "2ab9120d-ab62-4504-d62b-a5cd6eae2af6"
      },
      "execution_count": 25,
      "outputs": [
        {
          "output_type": "display_data",
          "data": {
            "text/plain": [
              "<Figure size 500x500 with 1 Axes>"
            ],
            "image/png": "[encoded data removed]"
          },
          "metadata": {}
        }
      ]
    },
    {
      "cell_type": "code",
      "source": [
        "inertias = []\n",
        "for nc in range(2, 10):\n",
        "  model = cluster.KMeans(n_clusters=nc, random_state=302).fit(cmag_scaled)\n",
        "  inertias.append(model.inertia_)\n",
        "\n",
        "pl.plot(range(2,10), inertias)\n",
        "pl.ylabel(\"inertia\")\n",
        "pl.xlabel(\"n clusters\")"
      ],
      "metadata": {
        "colab": {
          "base_uri": "https://localhost:8080/",
          "height": 764
        },
        "id": "xlV4eeV5LYMr",
        "outputId": "50899eaa-49e7-4940-b20c-ebee49df70e9"
      },
      "execution_count": 26,
      "outputs": [
        {
          "output_type": "stream",
          "name": "stderr",
          "text": [
            "/usr/local/lib/python3.9/dist-packages/sklearn/cluster/_kmeans.py:870: FutureWarning: The default value of `n_init` will change from 10 to 'auto' in 1.4. Set the value of `n_init` explicitly to suppress the warning\n",
            "  warnings.warn(\n",
            "/usr/local/lib/python3.9/dist-packages/sklearn/cluster/_kmeans.py:870: FutureWarning: The default value of `n_init` will change from 10 to 'auto' in 1.4. Set the value of `n_init` explicitly to suppress the warning\n",
            "  warnings.warn(\n",
            "/usr/local/lib/python3.9/dist-packages/sklearn/cluster/_kmeans.py:870: FutureWarning: The default value of `n_init` will change from 10 to 'auto' in 1.4. Set the value of `n_init` explicitly to suppress the warning\n",
            "  warnings.warn(\n",
            "/usr/local/lib/python3.9/dist-packages/sklearn/cluster/_kmeans.py:870: FutureWarning: The default value of `n_init` will change from 10 to 'auto' in 1.4. Set the value of `n_init` explicitly to suppress the warning\n",
            "  warnings.warn(\n",
            "/usr/local/lib/python3.9/dist-packages/sklearn/cluster/_kmeans.py:870: FutureWarning: The default value of `n_init` will change from 10 to 'auto' in 1.4. Set the value of `n_init` explicitly to suppress the warning\n",
            "  warnings.warn(\n",
            "/usr/local/lib/python3.9/dist-packages/sklearn/cluster/_kmeans.py:870: FutureWarning: The default value of `n_init` will change from 10 to 'auto' in 1.4. Set the value of `n_init` explicitly to suppress the warning\n",
            "  warnings.warn(\n",
            "/usr/local/lib/python3.9/dist-packages/sklearn/cluster/_kmeans.py:870: FutureWarning: The default value of `n_init` will change from 10 to 'auto' in 1.4. Set the value of `n_init` explicitly to suppress the warning\n",
            "  warnings.warn(\n",
            "/usr/local/lib/python3.9/dist-packages/sklearn/cluster/_kmeans.py:870: FutureWarning: The default value of `n_init` will change from 10 to 'auto' in 1.4. Set the value of `n_init` explicitly to suppress the warning\n",
            "  warnings.warn(\n"
          ]
        },
        {
          "output_type": "execute_result",
          "data": {
            "text/plain": [
              "Text(0.5, 0, 'n clusters')"
            ]
          },
          "metadata": {},
          "execution_count": 26
        },
        {
          "output_type": "display_data",
          "data": {
            "text/plain": [
              "<Figure size 640x480 with 1 Axes>"
            ],
            "image/png": "[encoded data removed]"
          },
          "metadata": {}
        }
      ]
    },
    {
      "cell_type": "code",
      "source": [
        "modeldbs = cluster.DBSCAN(eps=0.001).fit(cmag_scaled)"
      ],
      "metadata": {
        "id": "rTyDRmzmSW5l"
      },
      "execution_count": 27,
      "outputs": []
    },
    {
      "cell_type": "code",
      "source": [
        "modeldbs.labels_"
      ],
      "metadata": {
        "colab": {
          "base_uri": "https://localhost:8080/"
        },
        "id": "sZWywo8sS9ug",
        "outputId": "9f581706-dc10-4c64-b76f-0ab4af4071a2"
      },
      "execution_count": 28,
      "outputs": [
        {
          "output_type": "execute_result",
          "data": {
            "text/plain": [
              "array([-1, -1, -1, -1, -1, -1, -1, -1, -1, -1, -1, -1, -1, -1, -1, -1, -1,\n",
              "       -1, -1, -1, -1, -1, -1, -1, -1, -1, -1, -1, -1, -1, -1, -1, -1, -1,\n",
              "       -1, -1, -1, -1, -1, -1, -1, -1, -1, -1, -1, -1, -1, -1, -1, -1, -1,\n",
              "       -1, -1, -1, -1, -1, -1, -1, -1, -1, -1, -1, -1, -1, -1, -1, -1, -1,\n",
              "       -1, -1, -1, -1, -1, -1, -1, -1, -1, -1, -1, -1, -1, -1, -1, -1, -1,\n",
              "       -1, -1, -1, -1, -1, -1, -1, -1, -1, -1, -1, -1, -1, -1, -1, -1, -1,\n",
              "       -1, -1, -1, -1, -1, -1, -1, -1, -1, -1, -1, -1, -1, -1, -1, -1, -1,\n",
              "       -1, -1, -1, -1, -1, -1, -1, -1, -1, -1, -1, -1, -1, -1, -1, -1, -1,\n",
              "       -1, -1, -1, -1, -1, -1, -1, -1, -1, -1, -1, -1, -1, -1, -1, -1, -1,\n",
              "       -1, -1, -1, -1, -1, -1, -1, -1, -1, -1, -1, -1, -1, -1, -1, -1, -1,\n",
              "       -1, -1, -1, -1, -1, -1, -1, -1, -1, -1, -1, -1, -1, -1, -1, -1, -1,\n",
              "       -1, -1, -1, -1, -1, -1, -1, -1, -1, -1, -1, -1, -1, -1, -1, -1, -1,\n",
              "       -1, -1, -1, -1, -1, -1, -1, -1, -1, -1, -1, -1, -1, -1, -1, -1, -1,\n",
              "       -1, -1, -1, -1, -1, -1, -1, -1, -1, -1, -1, -1, -1, -1, -1, -1, -1,\n",
              "       -1, -1, -1, -1, -1, -1, -1, -1, -1, -1, -1, -1, -1, -1, -1, -1, -1,\n",
              "       -1, -1, -1, -1, -1, -1, -1, -1, -1, -1, -1, -1, -1, -1, -1, -1, -1,\n",
              "       -1, -1, -1, -1, -1, -1, -1, -1, -1, -1, -1, -1, -1, -1, -1, -1, -1,\n",
              "       -1, -1, -1, -1, -1, -1, -1, -1, -1, -1, -1, -1, -1, -1, -1, -1, -1,\n",
              "       -1, -1, -1, -1, -1, -1, -1, -1, -1, -1, -1, -1, -1, -1, -1, -1, -1,\n",
              "       -1, -1, -1, -1, -1, -1, -1, -1, -1, -1, -1, -1, -1, -1, -1, -1, -1,\n",
              "       -1, -1, -1, -1, -1, -1, -1, -1, -1, -1, -1, -1, -1, -1, -1, -1, -1,\n",
              "       -1, -1, -1, -1, -1, -1, -1, -1, -1, -1, -1, -1, -1, -1, -1, -1, -1,\n",
              "       -1, -1, -1, -1, -1, -1, -1, -1, -1, -1, -1, -1, -1, -1, -1, -1, -1,\n",
              "       -1, -1, -1, -1, -1, -1, -1, -1, -1, -1, -1, -1, -1, -1, -1, -1, -1,\n",
              "       -1, -1, -1, -1, -1, -1, -1, -1, -1, -1, -1, -1, -1, -1, -1, -1, -1,\n",
              "       -1, -1, -1, -1, -1, -1, -1, -1, -1, -1, -1, -1, -1, -1, -1, -1, -1,\n",
              "       -1, -1, -1, -1, -1, -1, -1, -1, -1, -1, -1, -1, -1, -1, -1, -1, -1,\n",
              "       -1, -1, -1, -1, -1, -1, -1, -1, -1, -1, -1, -1, -1, -1, -1, -1, -1,\n",
              "       -1, -1, -1, -1, -1, -1, -1, -1, -1, -1, -1, -1, -1, -1, -1, -1, -1,\n",
              "       -1, -1, -1, -1, -1, -1, -1, -1, -1, -1, -1, -1, -1, -1, -1, -1, -1,\n",
              "       -1, -1, -1, -1, -1, -1, -1, -1, -1, -1, -1, -1, -1, -1, -1, -1, -1,\n",
              "       -1, -1, -1, -1, -1, -1, -1, -1, -1, -1, -1, -1, -1, -1, -1, -1, -1,\n",
              "       -1, -1, -1, -1, -1, -1, -1, -1, -1, -1, -1, -1, -1, -1, -1, -1, -1,\n",
              "       -1, -1, -1, -1, -1, -1, -1, -1, -1, -1, -1, -1, -1, -1, -1, -1, -1,\n",
              "       -1, -1, -1, -1, -1, -1, -1, -1, -1, -1, -1, -1, -1, -1, -1, -1, -1,\n",
              "       -1, -1, -1, -1, -1, -1])"
            ]
          },
          "metadata": {},
          "execution_count": 28
        }
      ]
    },
    {
      "cell_type": "code",
      "source": [
        "ax = pl.figure(figsize=(5,5)).add_subplot(111)\n",
        "for i in range(3):\n",
        "  ax.plot(cmag_scaled[modeldbs.labels_==i,0], cmag_scaled[modeldbs.labels_==i,1], '.')\n",
        "ax.set_xlabel(\"B-V (color)\")\n",
        "ax.set_ylabel(\"V mag\")\n",
        "ax.axis('equal')\n",
        "pl.gca().invert_yaxis();"
      ],
      "metadata": {
        "colab": {
          "base_uri": "https://localhost:8080/",
          "height": 465
        },
        "id": "98WhzVq-TCyE",
        "outputId": "0607e724-f15e-419e-8915-d00e529933f3"
      },
      "execution_count": 29,
      "outputs": [
        {
          "output_type": "display_data",
          "data": {
            "text/plain": [
              "<Figure size 500x500 with 1 Axes>"
            ],
            "image/png": "[encoded data removed]"
          },
          "metadata": {}
        }
      ]
    },
    {
      "cell_type": "code",
      "source": [
        "for e in np.arange(0.001,1,0.001):\n",
        "  modeldbs=cluster.DBSCAN(eps=e).fit(cmag_scaled)\n",
        "  if modeldbs.labels_.max() > 0:\n",
        "    print(e, modeldbs.labels_.max())"
      ],
      "metadata": {
        "colab": {
          "base_uri": "https://localhost:8080/"
        },
        "id": "SqM-6l6fTHMy",
        "outputId": "667c5a85-e41a-4833-e8a7-377a9885911f"
      },
      "execution_count": 30,
      "outputs": [
        {
          "output_type": "stream",
          "name": "stdout",
          "text": [
            "0.067 1\n",
            "0.068 4\n",
            "0.069 5\n",
            "0.07 5\n",
            "0.07100000000000001 7\n",
            "0.07200000000000001 8\n",
            "0.07300000000000001 10\n",
            "0.074 13\n",
            "0.075 14\n",
            "0.076 16\n",
            "0.077 21\n",
            "0.078 22\n",
            "0.079 21\n",
            "0.08 18\n",
            "0.081 15\n",
            "0.082 13\n",
            "0.083 14\n",
            "0.084 14\n",
            "0.085 15\n",
            "0.08600000000000001 14\n",
            "0.08700000000000001 13\n",
            "0.08800000000000001 12\n",
            "0.089 12\n",
            "0.09 12\n",
            "0.091 13\n",
            "0.092 14\n",
            "0.093 15\n",
            "0.094 16\n",
            "0.095 15\n",
            "0.096 16\n",
            "0.097 17\n",
            "0.098 16\n",
            "0.099 14\n",
            "0.1 12\n",
            "0.101 12\n",
            "0.10200000000000001 11\n",
            "0.10300000000000001 11\n",
            "0.10400000000000001 11\n",
            "0.10500000000000001 12\n",
            "0.106 12\n",
            "0.107 11\n",
            "0.108 11\n",
            "0.109 10\n",
            "0.11 10\n",
            "0.111 11\n",
            "0.112 10\n",
            "0.113 10\n",
            "0.114 9\n",
            "0.115 9\n",
            "0.116 9\n",
            "0.117 9\n",
            "0.11800000000000001 10\n",
            "0.11900000000000001 9\n",
            "0.12000000000000001 9\n",
            "0.121 9\n",
            "0.122 9\n",
            "0.123 9\n",
            "0.124 9\n",
            "0.125 8\n",
            "0.126 8\n",
            "0.127 9\n",
            "0.128 9\n",
            "0.129 9\n",
            "0.13 9\n",
            "0.131 9\n",
            "0.132 7\n",
            "0.133 7\n",
            "0.134 7\n",
            "0.135 7\n",
            "0.136 6\n",
            "0.137 5\n",
            "0.138 5\n",
            "0.139 5\n",
            "0.14 5\n",
            "0.14100000000000001 4\n",
            "0.14200000000000002 4\n",
            "0.14300000000000002 4\n",
            "0.14400000000000002 4\n",
            "0.14500000000000002 4\n",
            "0.146 4\n",
            "0.147 4\n",
            "0.148 4\n",
            "0.149 4\n",
            "0.15 4\n",
            "0.151 4\n",
            "0.152 4\n",
            "0.153 4\n",
            "0.154 4\n",
            "0.155 3\n",
            "0.156 3\n",
            "0.157 3\n",
            "0.158 3\n",
            "0.159 3\n",
            "0.16 3\n",
            "0.161 3\n",
            "0.162 3\n",
            "0.163 3\n",
            "0.164 3\n",
            "0.165 3\n",
            "0.166 2\n",
            "0.167 2\n",
            "0.168 2\n",
            "0.169 2\n",
            "0.17 2\n",
            "0.171 2\n",
            "0.17200000000000001 2\n",
            "0.17300000000000001 2\n",
            "0.17400000000000002 2\n",
            "0.17500000000000002 2\n",
            "0.17600000000000002 2\n",
            "0.177 3\n",
            "0.178 3\n",
            "0.179 3\n",
            "0.18 3\n",
            "0.181 3\n",
            "0.182 3\n",
            "0.183 3\n",
            "0.184 3\n",
            "0.185 3\n",
            "0.186 2\n",
            "0.187 2\n",
            "0.188 2\n",
            "0.189 2\n",
            "0.19 2\n",
            "0.191 2\n",
            "0.192 2\n",
            "0.193 2\n",
            "0.194 2\n",
            "0.195 2\n",
            "0.196 2\n",
            "0.197 2\n",
            "0.198 2\n",
            "0.199 2\n",
            "0.2 2\n",
            "0.201 2\n",
            "0.202 2\n",
            "0.203 2\n",
            "0.20400000000000001 2\n",
            "0.20500000000000002 2\n",
            "0.20600000000000002 2\n",
            "0.20700000000000002 2\n",
            "0.20800000000000002 2\n",
            "0.20900000000000002 2\n",
            "0.21 2\n",
            "0.211 2\n",
            "0.212 2\n",
            "0.213 2\n",
            "0.214 2\n",
            "0.215 2\n",
            "0.216 2\n",
            "0.217 2\n",
            "0.218 2\n",
            "0.219 2\n",
            "0.22 2\n",
            "0.221 2\n",
            "0.222 2\n",
            "0.223 2\n",
            "0.224 2\n",
            "0.225 2\n",
            "0.226 2\n",
            "0.227 2\n",
            "0.228 2\n",
            "0.229 2\n",
            "0.23 2\n",
            "0.231 2\n",
            "0.232 2\n",
            "0.233 2\n",
            "0.234 2\n",
            "0.23500000000000001 2\n",
            "0.23600000000000002 2\n",
            "0.23700000000000002 2\n",
            "0.23800000000000002 2\n",
            "0.23900000000000002 2\n",
            "0.24000000000000002 3\n",
            "0.241 3\n",
            "0.242 3\n",
            "0.243 3\n",
            "0.244 3\n",
            "0.245 3\n",
            "0.246 3\n",
            "0.247 3\n",
            "0.248 3\n",
            "0.249 3\n",
            "0.25 3\n",
            "0.251 3\n",
            "0.252 3\n",
            "0.253 3\n",
            "0.254 3\n",
            "0.255 3\n",
            "0.256 3\n",
            "0.257 3\n",
            "0.258 3\n",
            "0.259 2\n",
            "0.26 2\n",
            "0.261 2\n",
            "0.262 2\n",
            "0.263 2\n",
            "0.264 2\n",
            "0.265 2\n",
            "0.266 2\n",
            "0.267 2\n",
            "0.268 2\n",
            "0.269 2\n",
            "0.27 2\n",
            "0.271 2\n",
            "0.272 2\n",
            "0.273 2\n",
            "0.274 2\n",
            "0.275 2\n",
            "0.276 2\n",
            "0.277 2\n",
            "0.278 2\n",
            "0.279 2\n",
            "0.28 2\n",
            "0.281 2\n",
            "0.28200000000000003 2\n",
            "0.28300000000000003 2\n",
            "0.28400000000000003 2\n",
            "0.28500000000000003 2\n",
            "0.28600000000000003 2\n",
            "0.28700000000000003 2\n",
            "0.28800000000000003 2\n",
            "0.28900000000000003 2\n",
            "0.29 2\n",
            "0.291 2\n",
            "0.292 2\n",
            "0.293 2\n",
            "0.294 2\n",
            "0.295 2\n",
            "0.296 2\n",
            "0.297 2\n",
            "0.298 2\n",
            "0.299 2\n",
            "0.3 2\n",
            "0.301 2\n",
            "0.302 2\n",
            "0.303 2\n",
            "0.304 2\n",
            "0.305 2\n",
            "0.306 2\n",
            "0.307 2\n",
            "0.308 2\n",
            "0.309 2\n",
            "0.31 2\n",
            "0.311 2\n",
            "0.312 2\n",
            "0.313 2\n",
            "0.314 1\n",
            "0.315 1\n",
            "0.316 1\n",
            "0.317 1\n",
            "0.318 1\n",
            "0.319 1\n",
            "0.32 1\n",
            "0.321 1\n",
            "0.322 1\n",
            "0.323 1\n",
            "0.324 1\n",
            "0.325 1\n",
            "0.326 1\n",
            "0.327 1\n",
            "0.328 1\n",
            "0.329 1\n",
            "0.33 1\n",
            "0.422 1\n",
            "0.423 1\n",
            "0.424 1\n",
            "0.425 1\n",
            "0.426 1\n",
            "0.427 1\n",
            "0.428 1\n",
            "0.429 1\n",
            "0.43 1\n",
            "0.431 1\n",
            "0.432 1\n",
            "0.433 1\n",
            "0.434 1\n",
            "0.435 1\n",
            "0.436 1\n",
            "0.437 1\n",
            "0.438 1\n",
            "0.439 1\n",
            "0.44 1\n",
            "0.441 1\n",
            "0.442 1\n",
            "0.443 1\n",
            "0.444 1\n",
            "0.445 1\n",
            "0.446 1\n",
            "0.447 1\n",
            "0.448 1\n",
            "0.449 1\n",
            "0.45 1\n",
            "0.451 1\n",
            "0.452 1\n",
            "0.453 1\n",
            "0.454 1\n",
            "0.455 1\n",
            "0.456 1\n",
            "0.457 1\n",
            "0.458 1\n",
            "0.459 1\n",
            "0.46 1\n",
            "0.461 1\n",
            "0.462 1\n",
            "0.463 1\n",
            "0.464 1\n",
            "0.465 1\n",
            "0.466 1\n",
            "0.467 1\n",
            "0.468 1\n",
            "0.46900000000000003 1\n",
            "0.47000000000000003 1\n"
          ]
        }
      ]
    },
    {
      "cell_type": "code",
      "source": [
        "modeldbs=cluster.DBSCAN(eps=0.2, min_samples=10).fit(cmag_scaled)\n",
        "ax = pl.figure(figsize=(5,5)).add_subplot(111)\n",
        "for i in np.unique(modeldbs.labels_):\n",
        "  ax.plot(cmag_scaled[modeldbs.labels_==i,0], cmag_scaled[modeldbs.labels_==i,1], '.')\n",
        "ax.set_xlabel(\"B-V (color)\")\n",
        "ax.set_ylabel(\"V mag\")\n",
        "ax.axis('equal')\n",
        "pl.gca().invert_yaxis();"
      ],
      "metadata": {
        "colab": {
          "base_uri": "https://localhost:8080/",
          "height": 465
        },
        "id": "YW6XcN7qTJSQ",
        "outputId": "4f430a5d-c5e4-45e8-9ced-9c73635499d2"
      },
      "execution_count": 31,
      "outputs": [
        {
          "output_type": "display_data",
          "data": {
            "text/plain": [
              "<Figure size 500x500 with 1 Axes>"
            ],
            "image/png": "[encoded data removed]"
          },
          "metadata": {}
        }
      ]
    }
  ]
}