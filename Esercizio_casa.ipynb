{
  "nbformat": 4,
  "nbformat_minor": 0,
  "metadata": {
    "colab": {
      "provenance": [],
      "authorship_tag": "ABX9TyN2pMuVb1tYYgZTwVKu9lx6",
      "include_colab_link": true
    },
    "kernelspec": {
      "name": "python3",
      "display_name": "Python 3"
    },
    "language_info": {
      "name": "python"
    }
  },
  "cells": [
    {
      "cell_type": "markdown",
      "metadata": {
        "id": "view-in-github",
        "colab_type": "text"
      },
      "source": [
        "<a href=\"https://colab.research.google.com/github/ipaliotti/MLPNS_IPaliotti/blob/main/Esercizio_casa.ipynb\" target=\"_parent\"><img src=\"https://colab.research.google.com/assets/colab-badge.svg\" alt=\"Open In Colab\"/></a>"
      ]
    },
    {
      "cell_type": "markdown",
      "source": [
        "#Esercizio per casa\n",
        "\n",
        "Find all movies that are genre Fantasy. How many are there? How about Adventure? (hint: use a Boolean condition with the operator “==“)\n",
        "How many movies are Fantasy, possibly together with other genres? (hint: use the operator “in”)"
      ],
      "metadata": {
        "id": "JsLlJHYyJCIv"
      }
    },
    {
      "cell_type": "code",
      "source": [
        "import pandas as pd"
      ],
      "metadata": {
        "id": "0GfUhuyvJIqA"
      },
      "execution_count": 7,
      "outputs": []
    },
    {
      "cell_type": "code",
      "source": [
        "url='https://raw.githubusercontent.com/fedhere/UInotebooks/master/dataWrangling/movies.dat'\n",
        "\n"
      ],
      "metadata": {
        "id": "Eq1sFOLOJEdY"
      },
      "execution_count": 9,
      "outputs": []
    },
    {
      "cell_type": "code",
      "source": [
        "colnames=[\"title\",\"genre\"]\n",
        "movies=pd.read_csv(url, sep=\"::\", index_col=0, header=None, names=colnames);"
      ],
      "metadata": {
        "id": "6Pit6lbQJOav"
      },
      "execution_count": 10,
      "outputs": []
    },
    {
      "cell_type": "code",
      "source": [
        "movies.columns\n"
      ],
      "metadata": {
        "colab": {
          "base_uri": "https://localhost:8080/"
        },
        "id": "Ctm_0tGtJoll",
        "outputId": "a8c3d295-4847-4fe0-d0cb-5aa6b08b95c7"
      },
      "execution_count": 11,
      "outputs": [
        {
          "output_type": "execute_result",
          "data": {
            "text/plain": [
              "Index(['title', 'genre'], dtype='object')"
            ]
          },
          "metadata": {},
          "execution_count": 11
        }
      ]
    },
    {
      "cell_type": "code",
      "source": [
        "movies['genre']"
      ],
      "metadata": {
        "colab": {
          "base_uri": "https://localhost:8080/"
        },
        "id": "hGbHzzsRJtqg",
        "outputId": "64967f78-a4b1-40f7-c1ab-8c6e039a819d"
      },
      "execution_count": 12,
      "outputs": [
        {
          "output_type": "execute_result",
          "data": {
            "text/plain": [
              "1        Animation|Children's|Comedy\n",
              "2       Adventure|Children's|Fantasy\n",
              "3                     Comedy|Romance\n",
              "4                       Comedy|Drama\n",
              "5                             Comedy\n",
              "                    ...             \n",
              "3948                          Comedy\n",
              "3949                           Drama\n",
              "3950                           Drama\n",
              "3951                           Drama\n",
              "3952                  Drama|Thriller\n",
              "Name: genre, Length: 3883, dtype: object"
            ]
          },
          "metadata": {},
          "execution_count": 12
        }
      ]
    },
    {
      "cell_type": "code",
      "source": [
        "fantasy=sum(movies.genre=='Fantasy')\n",
        "fantasy"
      ],
      "metadata": {
        "colab": {
          "base_uri": "https://localhost:8080/"
        },
        "id": "8twscmBNgKqM",
        "outputId": "f22545b5-b7e5-444a-e2f0-dcc4804af4ba"
      },
      "execution_count": 45,
      "outputs": [
        {
          "output_type": "execute_result",
          "data": {
            "text/plain": [
              "1"
            ]
          },
          "metadata": {},
          "execution_count": 45
        }
      ]
    },
    {
      "cell_type": "code",
      "source": [
        "adventure=sum(movies.genre=='Adventure')\n",
        "adventure"
      ],
      "metadata": {
        "colab": {
          "base_uri": "https://localhost:8080/"
        },
        "id": "O00jlKjuglW7",
        "outputId": "78acb251-38c8-4eae-e8c9-efa6bf1c6b48"
      },
      "execution_count": 47,
      "outputs": [
        {
          "output_type": "execute_result",
          "data": {
            "text/plain": [
              "17"
            ]
          },
          "metadata": {},
          "execution_count": 47
        }
      ]
    },
    {
      "cell_type": "code",
      "source": [
        "for i in range(3884):\n",
        "\n",
        "  if 'Fantasy' in movies.genre(i):\n",
        "\n",
        "    numb=numb+1\n",
        "\n",
        "  else:\n",
        "\n",
        "    numb=numb\n",
        "\n",
        "\n",
        "numb\n",
        "\n",
        "\n"
      ],
      "metadata": {
        "colab": {
          "base_uri": "https://localhost:8080/",
          "height": 235
        },
        "id": "j3_eSwHXg1MY",
        "outputId": "f8973e00-22cd-4a77-8c76-fc0c95c2f516"
      },
      "execution_count": 51,
      "outputs": [
        {
          "output_type": "error",
          "ename": "TypeError",
          "evalue": "ignored",
          "traceback": [
            "\u001b[0;31m---------------------------------------------------------------------------\u001b[0m",
            "\u001b[0;31mTypeError\u001b[0m                                 Traceback (most recent call last)",
            "\u001b[0;32m<ipython-input-51-ba837c386546>\u001b[0m in \u001b[0;36m<module>\u001b[0;34m\u001b[0m\n\u001b[1;32m      1\u001b[0m \u001b[0;32mfor\u001b[0m \u001b[0mi\u001b[0m \u001b[0;32min\u001b[0m \u001b[0mrange\u001b[0m\u001b[0;34m(\u001b[0m\u001b[0;36m3884\u001b[0m\u001b[0;34m)\u001b[0m\u001b[0;34m:\u001b[0m\u001b[0;34m\u001b[0m\u001b[0;34m\u001b[0m\u001b[0m\n\u001b[1;32m      2\u001b[0m \u001b[0;34m\u001b[0m\u001b[0m\n\u001b[0;32m----> 3\u001b[0;31m   \u001b[0;32mif\u001b[0m \u001b[0;34m'Fantasy'\u001b[0m \u001b[0;32min\u001b[0m \u001b[0mmovies\u001b[0m\u001b[0;34m.\u001b[0m\u001b[0mgenre\u001b[0m\u001b[0;34m(\u001b[0m\u001b[0mi\u001b[0m\u001b[0;34m)\u001b[0m\u001b[0;34m:\u001b[0m\u001b[0;34m\u001b[0m\u001b[0;34m\u001b[0m\u001b[0m\n\u001b[0m\u001b[1;32m      4\u001b[0m \u001b[0;34m\u001b[0m\u001b[0m\n\u001b[1;32m      5\u001b[0m     \u001b[0mnumb\u001b[0m\u001b[0;34m=\u001b[0m\u001b[0mnumb\u001b[0m\u001b[0;34m+\u001b[0m\u001b[0;36m1\u001b[0m\u001b[0;34m\u001b[0m\u001b[0;34m\u001b[0m\u001b[0m\n",
            "\u001b[0;31mTypeError\u001b[0m: 'Series' object is not callable"
          ]
        }
      ]
    }
  ]
}